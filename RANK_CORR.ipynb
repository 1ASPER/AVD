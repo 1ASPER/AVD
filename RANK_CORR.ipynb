{
 "cells": [
  {
   "cell_type": "code",
   "execution_count": 5,
   "id": "23f80813-8067-473e-8289-a6b6fb6dbc9d",
   "metadata": {},
   "outputs": [],
   "source": [
    "\n",
    "def sp_corr(di2, n: int):\n",
    "    print(sum(di), sum(di2))\n",
    "    return 1 - ( 6*sum(di2) ) / ( (n**3) - n )"
   ]
  },
  {
   "cell_type": "markdown",
   "id": "918c18d1",
   "metadata": {},
   "source": []
  },
  {
   "cell_type": "code",
   "execution_count": 6,
   "id": "1178bc81-9315-4dc4-a03c-7f17c618d8ce",
   "metadata": {},
   "outputs": [
    {
     "name": "stdout",
     "output_type": "stream",
     "text": [
      "[-2, 1, 1, -0.5, -1.5, 1.5, 1.0, -1.0, 0.5, 0, -1, 1]\n",
      "[4, 1, 1, 0.25, 2.25, 2.25, 1.0, 1.0, 0.25, 0, 1, 1]\n"
     ]
    }
   ],
   "source": [
    "arr = [\n",
    "    [1, 2, 3, 4, 5, 6, 7.5, 7.5, 9, 10, 11, 12],\n",
    "    [3, 1, 2, 4.5, 6.5, 4.5, 6.5, 8.5, 8.5, 10, 12, 11]\n",
    "]\n",
    "\n",
    "n = len(arr[0])\n",
    "\n",
    "di = [0] * n\n",
    "di2 = [0] * n\n",
    "\n",
    "for i in range(n):\n",
    "    di[i] = arr[0][i] - arr[1][i]\n",
    "    di2[i] = di[i]**2\n",
    "\n",
    "print(di)\n",
    "print(di2)"
   ]
  },
  {
   "cell_type": "code",
   "execution_count": 7,
   "id": "b21ea095-bba7-4df1-af29-e06f615f456e",
   "metadata": {},
   "outputs": [
    {
     "name": "stdout",
     "output_type": "stream",
     "text": [
      "0.0 15.0\n",
      "0.9475524475524475\n"
     ]
    }
   ],
   "source": [
    "ans = sp_corr(di2, n)\n",
    "print(ans)\n",
    "# R(b)"
   ]
  },
  {
   "cell_type": "code",
   "execution_count": 12,
   "id": "779423ca-2b79-4787-bd6b-a0dc98dae099",
   "metadata": {},
   "outputs": [
    {
     "data": {
      "text/plain": [
       "1626"
      ]
     },
     "execution_count": 12,
     "metadata": {},
     "output_type": "execute_result"
    }
   ],
   "source": [
    "1716-90"
   ]
  },
  {
   "cell_type": "code",
   "execution_count": null,
   "id": "da916cb2-48c3-438a-88a9-7042af96dfd9",
   "metadata": {},
   "outputs": [],
   "source": []
  }
 ],
 "metadata": {
  "kernelspec": {
   "display_name": "Python 3 (ipykernel)",
   "language": "python",
   "name": "python3"
  },
  "language_info": {
   "codemirror_mode": {
    "name": "ipython",
    "version": 3
   },
   "file_extension": ".py",
   "mimetype": "text/x-python",
   "name": "python",
   "nbconvert_exporter": "python",
   "pygments_lexer": "ipython3",
   "version": "3.12.2"
  }
 },
 "nbformat": 4,
 "nbformat_minor": 5
}
