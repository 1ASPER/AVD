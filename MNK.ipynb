{
 "cells": [
  {
   "cell_type": "markdown",
   "metadata": {},
   "source": [
    "# MNK"
   ]
  },
  {
   "cell_type": "markdown",
   "metadata": {},
   "source": [
    "### r(xy) = -1 < r < 1  (влияет прямо или обратно)\n",
    "\n",
    "    (0 - 0.3 -> слабая)\n",
    "    (0.3 - 0.5 -> средняя)\n",
    "    (0.5 - 0.7 -> умеренная)\n",
    "    (0.7 - 1 -> очень сильная)\n",
    "\n",
    "### R(xy) 0 < R < 1 (%)\n",
    "    Влияние X на Y (в процентах)\n",
    "\n",
    "### A(i) 0 < A < 100 (%)\n",
    "\n",
    "    ( < 10% -> модель устойчива)\n",
    "    ( > 10% -> модель устойчива)"
   ]
  },
  {
   "cell_type": "code",
   "execution_count": 121,
   "metadata": {},
   "outputs": [],
   "source": [
    "import numpy as np\n",
    "import pandas as pd"
   ]
  },
  {
   "cell_type": "code",
   "execution_count": 122,
   "metadata": {},
   "outputs": [],
   "source": [
    "corr: float # rb\n",
    "determination: float #R = (rxy)^2\n",
    "appeoximation_error: float # A"
   ]
  },
  {
   "cell_type": "code",
   "execution_count": 123,
   "metadata": {},
   "outputs": [],
   "source": [
    "ans = dict()"
   ]
  },
  {
   "cell_type": "markdown",
   "metadata": {},
   "source": [
    "## f(x) = Kx + b (Линейная)"
   ]
  },
  {
   "cell_type": "code",
   "execution_count": 124,
   "metadata": {},
   "outputs": [],
   "source": [
    "x = np.array(\n",
    "    [50, 60, 70, 100, 40, 70, 40, 80, 90, 60]\n",
    ")\n",
    "\n",
    "y = np.array(\n",
    "    [10, 12, 12, 19, 9, 14, 8, 16, 15, 11]\n",
    ")"
   ]
  },
  {
   "cell_type": "code",
   "execution_count": 125,
   "metadata": {},
   "outputs": [],
   "source": [
    "# Basic calculations\n",
    "xy: np.array = x * y\n",
    "y2 = np.power(y, 2)\n",
    "x2 = np.power(x, 2)\n",
    "\n",
    "# Cherta functions\n",
    "x_mean = np.mean(x)\n",
    "y_mean = np.mean(y)\n",
    "xy_mean = np.mean(xy)\n",
    "y2_mean = np.mean(y2)\n",
    "x2_mean = np.mean(x2)\n",
    "\n",
    "# linear coef\n",
    "a: float = (xy_mean - x_mean * y_mean) / (x2_mean - x_mean * x_mean)\n",
    "\n",
    "# linear intercept\n",
    "b: float = y_mean - a * x_mean\n",
    "\n",
    "# Linear function f(x)\n",
    "y_func = a * x + b\n",
    "\n",
    "# appeoximation error (non %)\n",
    "A = np.abs( (y - y_func) / y_func )\n",
    "A_mean = np.mean(A) \n",
    "\n",
    "# correlation (non %)\n",
    "r_xy = a * np.sqrt( (x2_mean - (x_mean * x_mean)) / (y2_mean - (y_mean * y_mean)) )\n",
    "\n",
    "# determination (non %)\n",
    "R = r_xy * r_xy\n"
   ]
  },
  {
   "cell_type": "code",
   "execution_count": 126,
   "metadata": {},
   "outputs": [
    {
     "data": {
      "text/plain": [
       "(0.9635749559417132, 0.9284766957180745, 0.05714011490714908)"
      ]
     },
     "execution_count": 126,
     "metadata": {},
     "output_type": "execute_result"
    }
   ],
   "source": [
    "r_xy, R, A_mean"
   ]
  },
  {
   "cell_type": "code",
   "execution_count": 127,
   "metadata": {},
   "outputs": [],
   "source": [
    "ans[\"Линейная\"] = {\"r(xy)\": r_xy, \"R\": R, \"A(i)\": A_mean}"
   ]
  },
  {
   "cell_type": "markdown",
   "metadata": {},
   "source": [
    "## f(x) = a * x^b (степенная)"
   ]
  },
  {
   "cell_type": "code",
   "execution_count": null,
   "metadata": {},
   "outputs": [],
   "source": []
  },
  {
   "cell_type": "code",
   "execution_count": 128,
   "metadata": {},
   "outputs": [],
   "source": [
    "# Precalculations\n",
    "X = np.log10(x)\n",
    "Y = np.log10(y)\n",
    "\n",
    "# Basic calculations\n",
    "\n",
    "x_mean = np.mean(x)\n",
    "y_mean_ = np.mean(y)\n",
    "XY = X * Y\n",
    "Y2 = np.power(Y, 2)\n",
    "X2 = np.power(X, 2)\n",
    "\n",
    "# Cherta functions\n",
    "X_mean = np.mean(X)\n",
    "Y_mean = np.mean(Y)\n",
    "XY_mean = np.mean(XY)\n",
    "Y2_mean = np.mean(Y2)\n",
    "X2_mean = np.mean(X2)\n",
    "\n",
    "\n",
    "# coef\n",
    "A: float = (XY_mean - X_mean * Y_mean) / (X2_mean - X_mean * X_mean)\n",
    "\n",
    "# intercept\n",
    "B: float = Y_mean - A * X_mean\n",
    "\n",
    "# function f(x)\n",
    "y_func = np.power(10, B) * np.power(x, A)\n",
    "\n",
    "# (y - y_func)^2\n",
    "flag1 = (y - y_func) * (y - y_func)\n",
    "\n",
    "# (y - y_mean)^2\n",
    "flag2 = (y - y_mean_) * (y - y_mean_)\n",
    "\n",
    "# Correlation\n",
    "r_xy = np.sqrt( 1 - np.sum(flag1) / np.sum(flag2) )\n",
    "\n",
    "\n",
    "# appeoximation error (non %)\n",
    "A = np.abs( (y - y_func) / y_func )\n",
    "A_mean = np.mean(A) \n",
    "\n",
    "# determination (non %)\n",
    "R = r_xy * r_xy\n"
   ]
  },
  {
   "cell_type": "code",
   "execution_count": 129,
   "metadata": {},
   "outputs": [
    {
     "data": {
      "text/plain": [
       "(0.9618776164881118, 0.925208549100851, 0.05873857552967188)"
      ]
     },
     "execution_count": 129,
     "metadata": {},
     "output_type": "execute_result"
    }
   ],
   "source": [
    "r_xy, R, A_mean"
   ]
  },
  {
   "cell_type": "code",
   "execution_count": 130,
   "metadata": {},
   "outputs": [],
   "source": [
    "ans[\"Степенная\"] = {\"r(xy)\": r_xy, \"R\": R, \"A(i)\": A_mean}"
   ]
  },
  {
   "cell_type": "markdown",
   "metadata": {},
   "source": [
    "## f(x) = a * b ^ x (показательная)"
   ]
  },
  {
   "cell_type": "code",
   "execution_count": 131,
   "metadata": {},
   "outputs": [],
   "source": [
    "# Precalculations\n",
    "Y = np.log10(y)\n",
    "\n",
    "# Basic calculations\n",
    "x_mean = np.mean(x)\n",
    "y_mean__ = np.mean(y)\n",
    "Yx: np.array = Y * x\n",
    "Y2 = np.power(Y, 2)\n",
    "x2 = np.power(x, 2)\n",
    "\n",
    "# Cherta functions\n",
    "x_mean = np.mean(x)\n",
    "Y_mean = np.mean(Y)\n",
    "Yx_mean = np.mean(Yx)\n",
    "Y2_mean = np.mean(Y2)\n",
    "x2_mean = np.mean(x2)\n",
    "\n",
    "\n",
    "# сoef\n",
    "A: float = (Yx_mean - x_mean * Y_mean) / (x2_mean - x_mean * x_mean)\n",
    "\n",
    "# intercept\n",
    "B: float = Y_mean - A * x_mean\n",
    "\n",
    "# Exponentional function f(x)\n",
    "y_func = np.power(10, A * x + B)\n",
    "\n",
    "# (y - y_func)^2\n",
    "flag1 = (y - y_func) * (y - y_func)\n",
    "\n",
    "# (y - y_mean)^2\n",
    "flag2 = (y - y_mean__) * (y - y_mean__)\n",
    "\n",
    "# Correlation\n",
    "r_xy = np.sqrt( 1 - (np.sum(flag1) / np.sum(flag2)) )\n",
    "\n",
    "# appeoximation error (non %)\n",
    "A = np.abs( (y - y_func) / y_func )\n",
    "A_mean = np.mean(A) \n",
    "\n",
    "# determination (non %)\n",
    "R = r_xy * r_xy\n"
   ]
  },
  {
   "cell_type": "code",
   "execution_count": 132,
   "metadata": {},
   "outputs": [
    {
     "data": {
      "text/plain": [
       "(0.9617641785460881, 0.9249903351344316, 0.05640402889875771)"
      ]
     },
     "execution_count": 132,
     "metadata": {},
     "output_type": "execute_result"
    }
   ],
   "source": [
    "r_xy, R, A_mean"
   ]
  },
  {
   "cell_type": "code",
   "execution_count": 133,
   "metadata": {},
   "outputs": [],
   "source": [
    "ans[\"Показательная\"] = {\"r(xy)\": r_xy, \"R\": R, \"A(i)\": A_mean}"
   ]
  },
  {
   "cell_type": "markdown",
   "metadata": {},
   "source": [
    "## (Гиперболическая)"
   ]
  },
  {
   "cell_type": "code",
   "execution_count": 134,
   "metadata": {},
   "outputs": [],
   "source": [
    "z = 1 / x\n",
    "zy = z * y\n",
    "z2 = np.power(z, 2)\n",
    "y2 = np.power(y, 2)\n",
    "\n",
    "# Cherta functions\n",
    "x_mean = np.mean(x)\n",
    "y_mean___ = np.mean(y)\n",
    "z_mean = np.mean(z)\n",
    "y_mean = np.mean(y)\n",
    "zy_mean = np.mean(zy)\n",
    "y2_mean = np.mean(y2)\n",
    "z2_mean = np.mean(z2)\n",
    "\n",
    "# coef\n",
    "a: float = (zy_mean - z_mean * y_mean) / (z2_mean - z_mean * z_mean)\n",
    "\n",
    "# intercept\n",
    "b: float = y_mean - a * z_mean\n",
    "\n",
    "# function f(x)\n",
    "y_func = b + a * z\n",
    "\n",
    "# (y - y_func)^2\n",
    "flag1 = (y - y_func) * (y - y_func)\n",
    "\n",
    "# (y - y_mean)^2\n",
    "flag2 = (y - y_mean___) * (y - y_mean___)\n",
    "\n",
    "# Correlation\n",
    "r_xy = np.sqrt( 1 - (np.sum(flag1) / np.sum(flag2)) )\n",
    "\n",
    "# appeoximation error (non %)\n",
    "A = np.abs( (y - y_func) / y_func )\n",
    "A_mean = np.mean(A) \n",
    "\n",
    "# determination (non %)\n",
    "R = r_xy * r_xy"
   ]
  },
  {
   "cell_type": "code",
   "execution_count": 135,
   "metadata": {},
   "outputs": [
    {
     "data": {
      "text/plain": [
       "(0.9156595603719371, 0.8384324305005291, 0.0861766382026408)"
      ]
     },
     "execution_count": 135,
     "metadata": {},
     "output_type": "execute_result"
    }
   ],
   "source": [
    "r_xy, R, A_mean"
   ]
  },
  {
   "cell_type": "code",
   "execution_count": 136,
   "metadata": {},
   "outputs": [],
   "source": [
    "ans[\"Гиперболическая\"] = {\"r(xy)\": r_xy, \"R\": R, \"A(i)\": A_mean}"
   ]
  },
  {
   "cell_type": "markdown",
   "metadata": {},
   "source": [
    "## RESULTS"
   ]
  },
  {
   "cell_type": "code",
   "execution_count": 141,
   "metadata": {},
   "outputs": [
    {
     "name": "stdout",
     "output_type": "stream",
     "text": [
      "Линейная\n",
      "r(xy): 0.9635749559417132\n",
      "R: 0.9284766957180745\n",
      "A(i): 0.05714011490714908\n",
      "\n",
      "\n",
      "Степенная\n",
      "r(xy): 0.9618776164881118\n",
      "R: 0.925208549100851\n",
      "A(i): 0.05873857552967188\n",
      "\n",
      "\n",
      "Показательная\n",
      "r(xy): 0.9617641785460881\n",
      "R: 0.9249903351344316\n",
      "A(i): 0.05640402889875771\n",
      "\n",
      "\n",
      "Гиперболическая\n",
      "r(xy): 0.9156595603719371\n",
      "R: 0.8384324305005291\n",
      "A(i): 0.0861766382026408\n",
      "\n",
      "\n"
     ]
    }
   ],
   "source": [
    "for name, d in ans.items():\n",
    "    print(name)\n",
    "    for k, w in d.items():\n",
    "        print(f\"{k}: {w}\")\n",
    "    print(\"\\n\")"
   ]
  },
  {
   "cell_type": "code",
   "execution_count": null,
   "metadata": {},
   "outputs": [],
   "source": []
  }
 ],
 "metadata": {
  "kernelspec": {
   "display_name": "Python 3",
   "language": "python",
   "name": "python3"
  },
  "language_info": {
   "codemirror_mode": {
    "name": "ipython",
    "version": 3
   },
   "file_extension": ".py",
   "mimetype": "text/x-python",
   "name": "python",
   "nbconvert_exporter": "python",
   "pygments_lexer": "ipython3",
   "version": "3.11.0"
  }
 },
 "nbformat": 4,
 "nbformat_minor": 2
}
