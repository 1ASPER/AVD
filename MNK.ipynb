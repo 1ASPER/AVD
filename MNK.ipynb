{
 "cells": [
  {
   "cell_type": "markdown",
   "metadata": {},
   "source": [
    "# MNK"
   ]
  },
  {
   "cell_type": "markdown",
   "metadata": {},
   "source": [
    "### r(xy) = -1 < r < 1  (влияет прямо или обратно)\n",
    "\n",
    "    (0 - 0.3 -> слабая)\n",
    "    (0.3 - 0.5 -> средняя)\n",
    "    (0.5 - 0.7 -> умеренная)\n",
    "    (0.7 - 1 -> очень сильная)\n",
    "\n",
    "### R(xy) 0 < R < 1 (%)\n",
    "    Влияние X на Y (в процентах)\n",
    "\n",
    "### A(i) 0 < A < 100 (%)\n",
    "\n",
    "    ( < 10% -> модель устойчива)\n",
    "    ( > 10% -> модель устойчива)"
   ]
  },
  {
   "cell_type": "code",
   "execution_count": 4,
   "metadata": {},
   "outputs": [],
   "source": [
    "import numpy as np\n",
    "import pandas as pd"
   ]
  },
  {
   "cell_type": "code",
   "execution_count": 122,
   "metadata": {},
   "outputs": [],
   "source": [
    "corr: float # rb\n",
    "determination: float #R = (rxy)^2\n",
    "appeoximation_error: float # A"
   ]
  },
  {
   "cell_type": "code",
   "execution_count": 123,
   "metadata": {},
   "outputs": [],
   "source": [
    "ans = dict()"
   ]
  },
  {
   "cell_type": "markdown",
   "metadata": {},
   "source": [
    "## f(x) = Kx + b (Линейная)"
   ]
  },
  {
   "cell_type": "code",
   "execution_count": 124,
   "metadata": {},
   "outputs": [],
   "source": [
    "x = np.array(\n",
    "    [50, 60, 70, 100, 40, 70, 40, 80, 90, 60]\n",
    ")\n",
    "\n",
    "y = np.array(\n",
    "    [10, 12, 12, 19, 9, 14, 8, 16, 15, 11]\n",
    ")"
   ]
  },
  {
   "cell_type": "code",
   "execution_count": 125,
   "metadata": {},
   "outputs": [],
   "source": [
    "# Basic calculations\n",
    "xy: np.array = x * y\n",
    "y2 = np.power(y, 2)\n",
    "x2 = np.power(x, 2)\n",
    "\n",
    "# Cherta functions\n",
    "x_mean = np.mean(x)\n",
    "y_mean = np.mean(y)\n",
    "xy_mean = np.mean(xy)\n",
    "y2_mean = np.mean(y2)\n",
    "x2_mean = np.mean(x2)\n",
    "\n",
    "# linear coef\n",
    "a: float = (xy_mean - x_mean * y_mean) / (x2_mean - x_mean * x_mean)\n",
    "\n",
    "# linear intercept\n",
    "b: float = y_mean - a * x_mean\n",
    "\n",
    "# Linear function f(x)\n",
    "y_func = a * x + b\n",
    "\n",
    "# appeoximation error (non %)\n",
    "A = np.abs( (y - y_func) / y_func )\n",
    "A_mean = np.mean(A) \n",
    "\n",
    "# correlation (non %)\n",
    "r_xy = a * np.sqrt( (x2_mean - (x_mean * x_mean)) / (y2_mean - (y_mean * y_mean)) )\n",
    "\n",
    "# determination (non %)\n",
    "R = r_xy * r_xy\n"
   ]
  },
  {
   "cell_type": "code",
   "execution_count": 126,
   "metadata": {},
   "outputs": [
    {
     "data": {
      "text/plain": [
       "(0.9635749559417132, 0.9284766957180745, 0.05714011490714908)"
      ]
     },
     "execution_count": 126,
     "metadata": {},
     "output_type": "execute_result"
    }
   ],
   "source": [
    "r_xy, R, A_mean"
   ]
  },
  {
   "cell_type": "code",
   "execution_count": 127,
   "metadata": {},
   "outputs": [],
   "source": [
    "ans[\"Линейная\"] = {\"r(xy)\": r_xy, \"R\": R, \"A(i)\": A_mean}"
   ]
  },
  {
   "cell_type": "markdown",
   "metadata": {},
   "source": [
    "## f(x) = a * x^b (степенная)"
   ]
  },
  {
   "cell_type": "code",
   "execution_count": 43,
   "metadata": {},
   "outputs": [],
   "source": [
    "x = np.array(\n",
    "    [99, 82, 77, 69, 52, 44, 31, 29, 28, 27.5]\n",
    ")\n",
    "\n",
    "y = np.array(\n",
    "    [100, 115, 210, 270, 323, 478, 544, 564, 570, 574]\n",
    ")"
   ]
  },
  {
   "cell_type": "code",
   "execution_count": 44,
   "metadata": {},
   "outputs": [],
   "source": [
    "# Precalculations\n",
    "X = np.log10(x)\n",
    "Y = np.log10(y)\n",
    "\n",
    "# Basic calculations\n",
    "\n",
    "x_mean = np.mean(x)\n",
    "y_mean_ = np.mean(y)\n",
    "XY = X * Y\n",
    "Y2 = np.power(Y, 2)\n",
    "X2 = np.power(X, 2)\n",
    "\n",
    "# Cherta functions\n",
    "X_mean = np.mean(X)\n",
    "Y_mean = np.mean(Y)\n",
    "XY_mean = np.mean(XY)\n",
    "Y2_mean = np.mean(Y2)\n",
    "X2_mean = np.mean(X2)\n",
    "\n",
    "\n",
    "# coef\n",
    "A_: float = (XY_mean - X_mean * Y_mean) / (X2_mean - X_mean * X_mean)\n",
    "\n",
    "# intercept\n",
    "B_: float = Y_mean - A_ * X_mean\n",
    "\n",
    "# function f(x)\n",
    "y_func = np.power(10, B_) * np.power(x, A_)\n",
    "\n",
    "# (y - y_func)^2\n",
    "flag1 = (y - y_func) * (y - y_func)\n",
    "\n",
    "# (y - y_mean)^2\n",
    "flag2 = (y - y_mean_) * (y - y_mean_)\n",
    "\n",
    "# Correlation\n",
    "r_xy = np.sqrt( 1 - np.sum(flag1) / np.sum(flag2) )\n",
    "\n",
    "\n",
    "# appeoximation error (non %)\n",
    "A = np.abs( (y - y_func) / y_func )\n",
    "A_mean = np.mean(A) \n",
    "\n",
    "# determination (non %)\n",
    "R = r_xy * r_xy\n"
   ]
  },
  {
   "cell_type": "code",
   "execution_count": 50,
   "metadata": {},
   "outputs": [
    {
     "data": {
      "text/plain": [
       "619.9024999999997"
      ]
     },
     "execution_count": 50,
     "metadata": {},
     "output_type": "execute_result"
    }
   ],
   "source": [
    " "
   ]
  },
  {
   "cell_type": "code",
   "execution_count": 51,
   "metadata": {},
   "outputs": [
    {
     "data": {
      "text/plain": [
       "24.897841271885394"
      ]
     },
     "execution_count": 51,
     "metadata": {},
     "output_type": "execute_result"
    }
   ],
   "source": []
  },
  {
   "cell_type": "code",
   "execution_count": 39,
   "metadata": {},
   "outputs": [
    {
     "data": {
      "text/plain": [
       "-1.2755192791605046"
      ]
     },
     "execution_count": 39,
     "metadata": {},
     "output_type": "execute_result"
    }
   ],
   "source": [
    "A_"
   ]
  },
  {
   "cell_type": "code",
   "execution_count": 40,
   "metadata": {},
   "outputs": [
    {
     "data": {
      "text/plain": [
       "4.647729937992366"
      ]
     },
     "execution_count": 40,
     "metadata": {},
     "output_type": "execute_result"
    }
   ],
   "source": [
    "B_"
   ]
  },
  {
   "cell_type": "code",
   "execution_count": 38,
   "metadata": {},
   "outputs": [
    {
     "data": {
      "text/plain": [
       "array([99. , 82. , 77. , 69. , 52. , 44. , 31. , 29. , 28. , 27.5])"
      ]
     },
     "execution_count": 38,
     "metadata": {},
     "output_type": "execute_result"
    }
   ],
   "source": [
    "x"
   ]
  },
  {
   "cell_type": "code",
   "execution_count": 26,
   "metadata": {},
   "outputs": [
    {
     "data": {
      "text/plain": [
       "53.85"
      ]
     },
     "execution_count": 26,
     "metadata": {},
     "output_type": "execute_result"
    }
   ],
   "source": [
    "x_mean"
   ]
  },
  {
   "cell_type": "code",
   "execution_count": 14,
   "metadata": {},
   "outputs": [
    {
     "data": {
      "text/plain": [
       "array([100, 115, 210, 270, 323, 478, 544, 564, 570, 574])"
      ]
     },
     "execution_count": 14,
     "metadata": {},
     "output_type": "execute_result"
    }
   ],
   "source": [
    "y"
   ]
  },
  {
   "cell_type": "code",
   "execution_count": 29,
   "metadata": {},
   "outputs": [
    {
     "data": {
      "text/plain": [
       "374.8"
      ]
     },
     "execution_count": 29,
     "metadata": {},
     "output_type": "execute_result"
    }
   ],
   "source": [
    "y_mean_"
   ]
  },
  {
   "cell_type": "code",
   "execution_count": 15,
   "metadata": {},
   "outputs": [
    {
     "data": {
      "text/plain": [
       "array([1.99563519, 1.91381385, 1.88649073, 1.83884909, 1.71600334,\n",
       "       1.64345268, 1.49136169, 1.462398  , 1.44715803, 1.43933269])"
      ]
     },
     "execution_count": 15,
     "metadata": {},
     "output_type": "execute_result"
    }
   ],
   "source": [
    "X"
   ]
  },
  {
   "cell_type": "code",
   "execution_count": 27,
   "metadata": {},
   "outputs": [
    {
     "data": {
      "text/plain": [
       "1.6834495299917702"
      ]
     },
     "execution_count": 27,
     "metadata": {},
     "output_type": "execute_result"
    }
   ],
   "source": [
    "X_mean"
   ]
  },
  {
   "cell_type": "code",
   "execution_count": 16,
   "metadata": {},
   "outputs": [
    {
     "data": {
      "text/plain": [
       "array([2.        , 2.06069784, 2.32221929, 2.43136376, 2.50920252,\n",
       "       2.6794279 , 2.7355989 , 2.7512791 , 2.75587486, 2.75891189])"
      ]
     },
     "execution_count": 16,
     "metadata": {},
     "output_type": "execute_result"
    }
   ],
   "source": [
    "Y"
   ]
  },
  {
   "cell_type": "code",
   "execution_count": 30,
   "metadata": {},
   "outputs": [
    {
     "data": {
      "text/plain": [
       "2.5004576069941726"
      ]
     },
     "execution_count": 30,
     "metadata": {},
     "output_type": "execute_result"
    }
   ],
   "source": [
    "Y_mean"
   ]
  },
  {
   "cell_type": "code",
   "execution_count": 17,
   "metadata": {},
   "outputs": [
    {
     "data": {
      "text/plain": [
       "array([3.99127039, 3.94379207, 4.38084516, 4.47091105, 4.30579992,\n",
       "       4.40351295, 4.07976741, 4.02346505, 3.98818643, 3.97099209])"
      ]
     },
     "execution_count": 17,
     "metadata": {},
     "output_type": "execute_result"
    }
   ],
   "source": [
    "XY"
   ]
  },
  {
   "cell_type": "code",
   "execution_count": 18,
   "metadata": {},
   "outputs": [
    {
     "data": {
      "text/plain": [
       "4.155854251518199"
      ]
     },
     "execution_count": 18,
     "metadata": {},
     "output_type": "execute_result"
    }
   ],
   "source": [
    "XY_mean"
   ]
  },
  {
   "cell_type": "code",
   "execution_count": 19,
   "metadata": {},
   "outputs": [
    {
     "data": {
      "text/plain": [
       "array([3.98255983, 3.66268346, 3.55884726, 3.38136598, 2.94466748,\n",
       "       2.7009367 , 2.2241597 , 2.1386079 , 2.09426637, 2.0716786 ])"
      ]
     },
     "execution_count": 19,
     "metadata": {},
     "output_type": "execute_result"
    }
   ],
   "source": [
    "X2"
   ]
  },
  {
   "cell_type": "code",
   "execution_count": 31,
   "metadata": {},
   "outputs": [
    {
     "data": {
      "text/plain": [
       "2.875977327867673"
      ]
     },
     "execution_count": 31,
     "metadata": {},
     "output_type": "execute_result"
    }
   ],
   "source": [
    "X2_mean"
   ]
  },
  {
   "cell_type": "code",
   "execution_count": 21,
   "metadata": {},
   "outputs": [
    {
     "data": {
      "text/plain": [
       "array([4.        , 4.24647559, 5.39270245, 5.91152975, 6.2960973 ,\n",
       "       7.17933385, 7.48350134, 7.56953671, 7.59484622, 7.61159483])"
      ]
     },
     "execution_count": 21,
     "metadata": {},
     "output_type": "execute_result"
    }
   ],
   "source": [
    "Y2"
   ]
  },
  {
   "cell_type": "code",
   "execution_count": 33,
   "metadata": {},
   "outputs": [
    {
     "data": {
      "text/plain": [
       "6.328561804514203"
      ]
     },
     "execution_count": 33,
     "metadata": {},
     "output_type": "execute_result"
    }
   ],
   "source": [
    "Y2_mean"
   ]
  },
  {
   "cell_type": "code",
   "execution_count": 23,
   "metadata": {},
   "outputs": [
    {
     "data": {
      "text/plain": [
       "array([126.54901615, 160.92498323, 174.37115654, 200.55914582,\n",
       "       287.69650769, 356.0199745 , 556.50535192, 605.91694468,\n",
       "       633.6536911 , 648.38556544])"
      ]
     },
     "execution_count": 23,
     "metadata": {},
     "output_type": "execute_result"
    }
   ],
   "source": [
    "y_func"
   ]
  },
  {
   "cell_type": "code",
   "execution_count": 24,
   "metadata": {},
   "outputs": [
    {
     "data": {
      "text/plain": [
       "array([0.20979236, 0.28538131, 0.20432762, 0.34623629, 0.12271088,\n",
       "       0.3426213 , 0.02247122, 0.06917936, 0.10045502, 0.11472428])"
      ]
     },
     "execution_count": 24,
     "metadata": {},
     "output_type": "execute_result"
    }
   ],
   "source": [
    "A"
   ]
  },
  {
   "cell_type": "code",
   "execution_count": 25,
   "metadata": {},
   "outputs": [
    {
     "data": {
      "text/plain": [
       "0.18178996229721783"
      ]
     },
     "execution_count": 25,
     "metadata": {},
     "output_type": "execute_result"
    }
   ],
   "source": [
    "A_mean"
   ]
  },
  {
   "cell_type": "code",
   "execution_count": 41,
   "metadata": {},
   "outputs": [
    {
     "data": {
      "text/plain": [
       "(0.9441962206088796, 0.8915065030120921, 0.18178996229721783)"
      ]
     },
     "execution_count": 41,
     "metadata": {},
     "output_type": "execute_result"
    }
   ],
   "source": [
    "r_xy, R, A_mean"
   ]
  },
  {
   "cell_type": "code",
   "execution_count": 130,
   "metadata": {},
   "outputs": [],
   "source": [
    "ans[\"Степенная\"] = {\"r(xy)\": r_xy, \"R\": R, \"A(i)\": A_mean}"
   ]
  },
  {
   "cell_type": "markdown",
   "metadata": {},
   "source": [
    "## f(x) = a * b ^ x (показательная)"
   ]
  },
  {
   "cell_type": "code",
   "execution_count": 131,
   "metadata": {},
   "outputs": [],
   "source": [
    "# Precalculations\n",
    "Y = np.log10(y)\n",
    "\n",
    "# Basic calculations\n",
    "x_mean = np.mean(x)\n",
    "y_mean__ = np.mean(y)\n",
    "Yx: np.array = Y * x\n",
    "Y2 = np.power(Y, 2)\n",
    "x2 = np.power(x, 2)\n",
    "\n",
    "# Cherta functions\n",
    "x_mean = np.mean(x)\n",
    "Y_mean = np.mean(Y)\n",
    "Yx_mean = np.mean(Yx)\n",
    "Y2_mean = np.mean(Y2)\n",
    "x2_mean = np.mean(x2)\n",
    "\n",
    "\n",
    "# сoef\n",
    "A: float = (Yx_mean - x_mean * Y_mean) / (x2_mean - x_mean * x_mean)\n",
    "\n",
    "# intercept\n",
    "B: float = Y_mean - A * x_mean\n",
    "\n",
    "# Exponentional function f(x)\n",
    "y_func = np.power(10, A * x + B)\n",
    "\n",
    "# (y - y_func)^2\n",
    "flag1 = (y - y_func) * (y - y_func)\n",
    "\n",
    "# (y - y_mean)^2\n",
    "flag2 = (y - y_mean__) * (y - y_mean__)\n",
    "\n",
    "# Correlation\n",
    "r_xy = np.sqrt( 1 - (np.sum(flag1) / np.sum(flag2)) )\n",
    "\n",
    "# appeoximation error (non %)\n",
    "A = np.abs( (y - y_func) / y_func )\n",
    "A_mean = np.mean(A) \n",
    "\n",
    "# determination (non %)\n",
    "R = r_xy * r_xy\n"
   ]
  },
  {
   "cell_type": "code",
   "execution_count": 132,
   "metadata": {},
   "outputs": [
    {
     "data": {
      "text/plain": [
       "(0.9617641785460881, 0.9249903351344316, 0.05640402889875771)"
      ]
     },
     "execution_count": 132,
     "metadata": {},
     "output_type": "execute_result"
    }
   ],
   "source": [
    "r_xy, R, A_mean"
   ]
  },
  {
   "cell_type": "code",
   "execution_count": 133,
   "metadata": {},
   "outputs": [],
   "source": [
    "ans[\"Показательная\"] = {\"r(xy)\": r_xy, \"R\": R, \"A(i)\": A_mean}"
   ]
  },
  {
   "cell_type": "markdown",
   "metadata": {},
   "source": [
    "## (Гиперболическая)"
   ]
  },
  {
   "cell_type": "code",
   "execution_count": 134,
   "metadata": {},
   "outputs": [],
   "source": [
    "z = 1 / x\n",
    "zy = z * y\n",
    "z2 = np.power(z, 2)\n",
    "y2 = np.power(y, 2)\n",
    "\n",
    "# Cherta functions\n",
    "x_mean = np.mean(x)\n",
    "y_mean___ = np.mean(y)\n",
    "z_mean = np.mean(z)\n",
    "y_mean = np.mean(y)\n",
    "zy_mean = np.mean(zy)\n",
    "y2_mean = np.mean(y2)\n",
    "z2_mean = np.mean(z2)\n",
    "\n",
    "# coef\n",
    "a: float = (zy_mean - z_mean * y_mean) / (z2_mean - z_mean * z_mean)\n",
    "\n",
    "# intercept\n",
    "b: float = y_mean - a * z_mean\n",
    "\n",
    "# function f(x)\n",
    "y_func = b + a * z\n",
    "\n",
    "# (y - y_func)^2\n",
    "flag1 = (y - y_func) * (y - y_func)\n",
    "\n",
    "# (y - y_mean)^2\n",
    "flag2 = (y - y_mean___) * (y - y_mean___)\n",
    "\n",
    "# Correlation\n",
    "r_xy = np.sqrt( 1 - (np.sum(flag1) / np.sum(flag2)) )\n",
    "\n",
    "# appeoximation error (non %)\n",
    "A = np.abs( (y - y_func) / y_func )\n",
    "A_mean = np.mean(A) \n",
    "\n",
    "# determination (non %)\n",
    "R = r_xy * r_xy"
   ]
  },
  {
   "cell_type": "code",
   "execution_count": 135,
   "metadata": {},
   "outputs": [
    {
     "data": {
      "text/plain": [
       "(0.9156595603719371, 0.8384324305005291, 0.0861766382026408)"
      ]
     },
     "execution_count": 135,
     "metadata": {},
     "output_type": "execute_result"
    }
   ],
   "source": [
    "r_xy, R, A_mean"
   ]
  },
  {
   "cell_type": "code",
   "execution_count": 136,
   "metadata": {},
   "outputs": [],
   "source": [
    "ans[\"Гиперболическая\"] = {\"r(xy)\": r_xy, \"R\": R, \"A(i)\": A_mean}"
   ]
  },
  {
   "cell_type": "markdown",
   "metadata": {},
   "source": [
    "## RESULTS"
   ]
  },
  {
   "cell_type": "code",
   "execution_count": 141,
   "metadata": {},
   "outputs": [
    {
     "name": "stdout",
     "output_type": "stream",
     "text": [
      "Линейная\n",
      "r(xy): 0.9635749559417132\n",
      "R: 0.9284766957180745\n",
      "A(i): 0.05714011490714908\n",
      "\n",
      "\n",
      "Степенная\n",
      "r(xy): 0.9618776164881118\n",
      "R: 0.925208549100851\n",
      "A(i): 0.05873857552967188\n",
      "\n",
      "\n",
      "Показательная\n",
      "r(xy): 0.9617641785460881\n",
      "R: 0.9249903351344316\n",
      "A(i): 0.05640402889875771\n",
      "\n",
      "\n",
      "Гиперболическая\n",
      "r(xy): 0.9156595603719371\n",
      "R: 0.8384324305005291\n",
      "A(i): 0.0861766382026408\n",
      "\n",
      "\n"
     ]
    }
   ],
   "source": [
    "for name, d in ans.items():\n",
    "    print(name)\n",
    "    for k, w in d.items():\n",
    "        print(f\"{k}: {w}\")\n",
    "    print(\"\\n\")"
   ]
  },
  {
   "cell_type": "code",
   "execution_count": null,
   "metadata": {},
   "outputs": [],
   "source": []
  }
 ],
 "metadata": {
  "kernelspec": {
   "display_name": "Python 3",
   "language": "python",
   "name": "python3"
  },
  "language_info": {
   "codemirror_mode": {
    "name": "ipython",
    "version": 3
   },
   "file_extension": ".py",
   "mimetype": "text/x-python",
   "name": "python",
   "nbconvert_exporter": "python",
   "pygments_lexer": "ipython3",
   "version": "3.12.2"
  }
 },
 "nbformat": 4,
 "nbformat_minor": 2
}
