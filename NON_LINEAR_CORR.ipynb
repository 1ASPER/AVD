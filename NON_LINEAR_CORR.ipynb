{
 "cells": [
  {
   "cell_type": "code",
   "execution_count": 25,
   "id": "0e37caf1",
   "metadata": {},
   "outputs": [
    {
     "name": "stdout",
     "output_type": "stream",
     "text": [
      "yx = [25.0, 47.096774193548384, 108.6734693877551]\n",
      "nx_x = 378\n",
      "nx_x2 = 1584\n",
      "nx_x3 = 7122\n",
      "nx_x4 = 33456\n",
      "nx_yx = 7285.0\n",
      "nx_yx_x = 32005.0\n",
      "nx_yx_x2 = 148265.0\n",
      "\n",
      "Система уравнений\n",
      "33456A + 7122B  + 1584C = 148265.0\n",
      "7122A + 7122B  + 378C = 32005.0\n",
      "1584A + 378B  + 100C = 7285.0\n",
      "\n",
      "n_yx = 0.9696120510346613\n"
     ]
    }
   ],
   "source": [
    "# Write Here\n",
    "\n",
    "x = [2, 3, 5]\n",
    "y = [25, 45, 110]\n",
    "nx = [20, 31, 49]\n",
    "ny = [20, 31, 49]\n",
    "\n",
    "l = [\n",
    "    [20, 0, 0],\n",
    "    [0, 30, 1],\n",
    "    [0, 1, 48],\n",
    "]\n",
    "\n",
    "\n",
    "\n",
    "\n",
    "# Code (Don't touch it)\n",
    "\n",
    "n = sum(nx)\n",
    "yx = []\n",
    "for i in range(len(x)):\n",
    "    temp = []\n",
    "    for j in range(len(y)):\n",
    "        temp.append(l[j][i]*y[j])\n",
    "    yx.append(sum(temp)/nx[i])\n",
    "\n",
    "yx_ = sum(yx)\n",
    "\n",
    "nx_x = sum(x[i]*nx[i] for i in range(len(x)))\n",
    "nx_x2 = sum(x[i]*nx[i]*x[i] for i in range(len(x)))\n",
    "nx_x3 = sum(x[i]*nx[i]*x[i]*x[i] for i in range(len(x)))\n",
    "nx_x4 = sum(x[i]*nx[i]*x[i]*x[i]*x[i] for i in range(len(x)))\n",
    "nx_yx = sum([nx[i]*yx[i] for i in range(len(x))])\n",
    "nx_yx_x = sum([nx[i]*yx[i]*x[i] for i in range(len(x))])\n",
    "nx_yx_x2 = sum([nx[i]*yx[i]*x[i]*x[i] for i in range(len(x))])\n",
    "\n",
    "print(f\"yx = {yx}\")\n",
    "print(f\"nx_x = {nx_x}\")\n",
    "print(f\"nx_x2 = {nx_x2}\")\n",
    "print(f\"nx_x3 = {nx_x3}\")\n",
    "print(f\"nx_x4 = {nx_x4}\")\n",
    "print(f\"nx_yx = {nx_yx}\")\n",
    "print(f\"nx_yx_x = {nx_yx_x}\")\n",
    "print(f\"nx_yx_x2 = {nx_yx_x2}\")\n",
    "\n",
    "print()\n",
    "print(\"Система уравнений\")\n",
    "\n",
    "print(f\"{nx_x4}A + {nx_x3}B  + {nx_x2}C = {nx_yx_x2}\")\n",
    "print(f\"{nx_x3}A + {nx_x3}B  + {nx_x}C = {nx_yx_x}\")\n",
    "print(f\"{nx_x2}A + {nx_x}B  + {n}C = {nx_yx}\")\n",
    "\n",
    "y_hat = sum([ny[i]*y[i] for i in range(len(y))]) / n\n",
    "sig_y = (sum([ ny[i] * (y[i] - y_hat) * (y[i] - y_hat) for i in range(len(y))]) / n)**(1/2)\n",
    "sig_yx = (sum([ nx[i] * (yx[i] - y_hat) * (yx[i] - y_hat) for i in range(len(y))]) / n)**(1/2)\n",
    "print()\n",
    "Nyx = sig_yx / sig_y\n",
    "print(f\"n_yx = {Nyx}\")"
   ]
  },
  {
   "cell_type": "code",
   "execution_count": null,
   "id": "c5484c97",
   "metadata": {},
   "outputs": [],
   "source": []
  }
 ],
 "metadata": {
  "kernelspec": {
   "display_name": "Python 3 (ipykernel)",
   "language": "python",
   "name": "python3"
  },
  "language_info": {
   "codemirror_mode": {
    "name": "ipython",
    "version": 3
   },
   "file_extension": ".py",
   "mimetype": "text/x-python",
   "name": "python",
   "nbconvert_exporter": "python",
   "pygments_lexer": "ipython3",
   "version": "3.11.7"
  }
 },
 "nbformat": 4,
 "nbformat_minor": 5
}
